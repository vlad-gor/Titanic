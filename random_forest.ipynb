{
 "metadata": {
  "language_info": {
   "codemirror_mode": {
    "name": "ipython",
    "version": 3
   },
   "file_extension": ".py",
   "mimetype": "text/x-python",
   "name": "python",
   "nbconvert_exporter": "python",
   "pygments_lexer": "ipython3",
   "version": "3.8.3-final"
  },
  "orig_nbformat": 2,
  "kernelspec": {
   "name": "python38364bit9776d40c389240c28521aad619fecb4d",
   "display_name": "Python 3.8.3 64-bit"
  }
 },
 "nbformat": 4,
 "nbformat_minor": 2,
 "cells": [
  {
   "cell_type": "code",
   "execution_count": 10,
   "metadata": {},
   "outputs": [],
   "source": [
    "import pandas as pd \n",
    "from sklearn.model_selection import train_test_split, GridSearchCV\n",
    "from sklearn.ensemble import RandomForestClassifier\n",
    "import matplotlib.pyplot as plt\n",
    "import seaborn as sns\n",
    "%matplotlib inline"
   ]
  },
  {
   "cell_type": "code",
   "execution_count": 11,
   "metadata": {},
   "outputs": [],
   "source": [
    "# 2. Настройка визуализации"
   ]
  },
  {
   "cell_type": "code",
   "execution_count": 12,
   "metadata": {},
   "outputs": [],
   "source": [
    "# 3. Загрузка данных\n",
    "df = pd.read_csv('train.csv')"
   ]
  },
  {
   "cell_type": "code",
   "execution_count": 13,
   "metadata": {},
   "outputs": [],
   "source": [
    "# 4. Подготовка данных\n",
    "X = df.drop(['PassengerId','Survived','Name','Ticket','Cabin'], axis=1)\n",
    "X = pd.get_dummies(X) # - преобразование категориальных признаков\n",
    "X = X.fillna({'Age':X.Age.median()})\n",
    "y = df.Survived\n",
    "X_train, X_test, y_train, y_test = train_test_split(X, y, test_size = 0.33, random_state = 42)"
   ]
  },
  {
   "cell_type": "code",
   "execution_count": 26,
   "metadata": {},
   "outputs": [],
   "source": [
    "clf_rf = RandomForestClassifier(criterion='entropy',n_estimators=30, min_samples_split=10)\n",
    "parameters = {'max_depth':range(1,20,2)}\n",
    "gs_clf = GridSearchCV(clf_rf,parameters,cv=5)"
   ]
  },
  {
   "cell_type": "code",
   "execution_count": 27,
   "metadata": {},
   "outputs": [
    {
     "output_type": "execute_result",
     "data": {
      "text/plain": "GridSearchCV(cv=5,\n             estimator=RandomForestClassifier(criterion='entropy',\n                                              min_samples_split=10,\n                                              n_estimators=30),\n             param_grid={'max_depth': range(1, 20, 2)})"
     },
     "metadata": {},
     "execution_count": 27
    }
   ],
   "source": [
    "gs_clf.fit(X_train, y_train)"
   ]
  },
  {
   "cell_type": "code",
   "execution_count": 28,
   "metadata": {},
   "outputs": [
    {
     "output_type": "execute_result",
     "data": {
      "text/plain": "{'max_depth': 11}"
     },
     "metadata": {},
     "execution_count": 28
    }
   ],
   "source": [
    "gs_clf.best_params_"
   ]
  },
  {
   "cell_type": "code",
   "execution_count": 29,
   "metadata": {},
   "outputs": [
    {
     "output_type": "execute_result",
     "data": {
      "text/plain": "0.8203389830508474"
     },
     "metadata": {},
     "execution_count": 29
    }
   ],
   "source": [
    "gs_clf.best_estimator_.score(X_test, y_test)"
   ]
  },
  {
   "cell_type": "code",
   "execution_count": 30,
   "metadata": {},
   "outputs": [
    {
     "output_type": "execute_result",
     "data": {
      "text/plain": "array([0.12830659, 0.17210903, 0.05061507, 0.03760606, 0.23363829,\n       0.17154302, 0.15435474, 0.02287765, 0.00952637, 0.01942317])"
     },
     "metadata": {},
     "execution_count": 30
    }
   ],
   "source": [
    "gs_clf.best_estimator_.feature_importances_"
   ]
  },
  {
   "cell_type": "code",
   "execution_count": null,
   "metadata": {},
   "outputs": [],
   "source": []
  }
 ]
}